{
 "cells": [
  {
   "cell_type": "code",
   "execution_count": null,
   "metadata": {},
   "outputs": [],
   "source": [
    "# importing Qiskit\n",
    "from qiskit import (\n",
    "\tIBMQ,\n",
    "\tQuantumCircuit,\n",
    "\ttranspile,\n",
    ")\n",
    "from qiskit.providers import Backend\n",
    "from qiskit.providers.aer.noise import NoiseModel\n",
    "\n",
    "import statistics\n",
    "import numpy as np\n",
    "from matplotlib.pyplot import figure\n",
    "import math\n",
    "import datetime\n",
    "from IPython.display import display\n",
    "import os\n",
    "import time\n",
    "import pickle"
   ]
  },
  {
   "cell_type": "code",
   "execution_count": null,
   "metadata": {},
   "outputs": [],
   "source": [
    "provider = IBMQ.load_account()"
   ]
  },
  {
   "cell_type": "code",
   "execution_count": null,
   "metadata": {},
   "outputs": [],
   "source": [
    "hw_backend = provider.get_backend(\"ibmq_belem\")"
   ]
  },
  {
   "cell_type": "code",
   "execution_count": null,
   "metadata": {},
   "outputs": [],
   "source": [
    "def create_test_circs(backend):\n",
    "\t\tqubits = backend.configuration().n_qubits\n",
    "\t\tcircs = []\n",
    "\t\tcircs_params = []\n",
    "\t\tsamples = np.linspace(0, 250, 15, dtype=int)[1:]*2\n",
    "\t\tfor i in range(qubits):\n",
    "\t\t\tfor cnt in samples:\n",
    "\t\t\t\tqc = QuantumCircuit(qubits, qubits)\n",
    "\t\t\t\tfor j in range(cnt):\n",
    "\t\t\t\t\tqc.x(i)\n",
    "\t\t\t\t\tqc.barrier()\n",
    "\t\t\t\tqc.measure_all(add_bits=False)\n",
    "\t\t\t\tcircs.append(qc)\n",
    "\t\t\t\tcircs_params.append({\"expected result\": {\"0\"*qubits : 1},\n",
    "\t\t\t\t\t\t\t\t\t \"desc\": f\"{cnt} chained not gates on qubit #{i}\"})\n",
    "\n",
    "\n",
    "\t\tfor cnt in samples:\n",
    "\t\t\tqc = QuantumCircuit(qubits, qubits)\n",
    "\t\t\tfor j in range(cnt):\n",
    "\t\t\t\tqc.x(range(qubits))\n",
    "\t\t\t\tqc.barrier()\n",
    "\t\t\tqc.measure_all(add_bits=False)\n",
    "\t\t\tcircs.append(qc)\n",
    "\t\t\tcircs_params.append({\"expected result\": {\"0\"*qubits if cnt % 2 == 0 else \"1\"*qubits : 1},\n",
    "\t\t\t\t\t\t\t\t\t\"desc\": f\"{cnt} chained not gates on all qubits\"})\n",
    "\n",
    "\t\tfor cnt in samples:\n",
    "\t\t\tqc = QuantumCircuit(qubits, qubits)\n",
    "\t\t\tfor j in range(cnt):\n",
    "\t\t\t\tqc.id(range(qubits))\n",
    "\t\t\t\tqc.barrier()\n",
    "\t\t\tqc.measure_all(add_bits=False)\n",
    "\t\t\tcircs.append(qc)\n",
    "\t\t\tcircs_params.append({\"expected result\": {\"0\"*qubits : 1},\n",
    "\t\t\t\t\t\t\t\t\t\"desc\": f\"{cnt} chained id gates (delay of gates) on all qubits\"})\n",
    "\t\t\n",
    "\t\tqc = QuantumCircuit(qubits, qubits)\n",
    "\t\tqc.barrier()\n",
    "\t\tqc.measure_all(add_bits=False)\n",
    "\t\tcircs.append(qc)\n",
    "\t\tcircs_params.append({\"expected result\": {\"0\"*qubits : 1},\n",
    "\t\t\t\t\t\t\t\t\"desc\": f\"setup and measure without any gates\"})\n",
    "\n",
    "\t\treturn transpile(circs, backend, optimization_level=0, seed_transpiler=42), circs_params"
   ]
  },
  {
   "cell_type": "code",
   "execution_count": null,
   "metadata": {},
   "outputs": [],
   "source": [
    "class Measurement:\n",
    "\tdef __init__(self, backend, circs, params):\n",
    "\t\tself.backend = backend\n",
    "\t\tself.properties_before = None\n",
    "\t\tself.properties_before_ts = None\n",
    "\t\tself.properties_after = None\n",
    "\t\tself.properties_after_ts = None\n",
    "\t\tself.properties_runtime = None\n",
    "\t\tself.properties_runtime_ts = None\n",
    "\t\tself.result = None\n",
    "\t\tself.job = None\n",
    "\t\tself.circuits = circs\n",
    "\t\tself.circuit_params = params\n",
    "\t\tself.noise_model = None\n",
    "\n",
    "\tdef run(self):\n",
    "\t\tself.properties_before_ts = datetime.datetime.now()\n",
    "\t\tself.properties_before = self.backend.properties()\n",
    "\n",
    "\t\tself.job = self.backend.run(self.circuits, shots=10000)\n",
    "\t\tself.result = self.job.result().get_counts()\n",
    "\t\tself.noise_model = NoiseModel.from_backend(self.backend)\n",
    "\n",
    "\t\tself.properties_runtime_ts = self.job.time_per_step()[\"RUNNING\"]\n",
    "\t\tself.properties_runtime = self.backend.properties(datetime=self.properties_runtime_ts)\n",
    "\n",
    "\t\tself.properties_after = self.backend.properties()\n",
    "\t\tself.properties_after_ts = datetime.datetime.now()\n"
   ]
  },
  {
   "cell_type": "code",
   "execution_count": null,
   "metadata": {},
   "outputs": [],
   "source": [
    "test_circs, test_params = create_test_circs(hw_backend)"
   ]
  },
  {
   "cell_type": "code",
   "execution_count": null,
   "metadata": {},
   "outputs": [],
   "source": [
    "out_folder = \"output_long_experiment\"\n",
    "if not os.path.exists(out_folder):\n",
    "\tos.mkdir(out_folder)"
   ]
  },
  {
   "cell_type": "code",
   "execution_count": null,
   "metadata": {},
   "outputs": [],
   "source": [
    "total_runtime = 48 #in hours\n",
    "interval = 30 #in minutes\n",
    "steps = total_runtime*60 // interval\n",
    "start = datetime.datetime.now()\n",
    "try:\n",
    "\tfor i in range(steps):\n",
    "\t\tmeasure = Measurement(hw_backend, test_circs, test_params)\n",
    "\t\tmeasure.run()\n",
    "\t\twith open(os.path.join(out_folder, f\"measurement_{i}\"), \"wb\") as file:\n",
    "\t\t\tpickle.dump(measure, file)\n",
    "\n",
    "\t\ttime.sleep(interval*60)\n",
    "except KeyboardInterrupt as e:\n",
    "\tprint(f\"stopped after {i} iterations\")\n",
    "\tprint(f\"started {str(start)}\")\n",
    "\tprint(f\"end {str(datetime.datetime.now())}\")\n"
   ]
  },
  {
   "cell_type": "code",
   "execution_count": null,
   "metadata": {},
   "outputs": [],
   "source": []
  }
 ],
 "metadata": {
  "interpreter": {
   "hash": "9210fd2b6096117dcc4f526e4f6e7c99364ee0ef913359df53937e5d2c00512a"
  },
  "kernelspec": {
   "display_name": "Python 3.9.10 ('qc')",
   "language": "python",
   "name": "python3"
  },
  "language_info": {
   "codemirror_mode": {
    "name": "ipython",
    "version": 3
   },
   "file_extension": ".py",
   "mimetype": "text/x-python",
   "name": "python",
   "nbconvert_exporter": "python",
   "pygments_lexer": "ipython3",
   "version": "3.9.10"
  },
  "orig_nbformat": 4
 },
 "nbformat": 4,
 "nbformat_minor": 2
}
